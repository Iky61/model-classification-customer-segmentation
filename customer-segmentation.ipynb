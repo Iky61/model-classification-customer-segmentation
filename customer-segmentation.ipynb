{
 "cells": [
  {
   "cell_type": "code",
   "execution_count": 1,
   "id": "b5a424ca-092e-4e5a-a450-17e7f42da09d",
   "metadata": {},
   "outputs": [],
   "source": [
    "import pandas as pd\n",
    "import numpy as np\n",
    "import matplotlib.pyplot as plt\n",
    "import seaborn as sns\n",
    "import warnings\n",
    "\n",
    "from sklearn.preprocessing import MinMaxScaler, LabelEncoder\n",
    "\n",
    "warnings.filterwarnings('ignore')"
   ]
  },
  {
   "cell_type": "markdown",
   "id": "25e42254-9bd0-41d4-922d-244866b83311",
   "metadata": {},
   "source": [
    "# Extracting, Transforming, Loading"
   ]
  },
  {
   "cell_type": "markdown",
   "id": "cfd3c45f-6391-441e-b52d-db0eaf3977e5",
   "metadata": {},
   "source": [
    "## Extracting"
   ]
  },
  {
   "cell_type": "code",
   "execution_count": 3,
   "id": "adaa8cd4-d8e6-4f24-8914-e38928d9890d",
   "metadata": {},
   "outputs": [],
   "source": [
    "df_pembayaran=pd.read_csv('tbl_pembayaran_piutang_2022_2023.csv', error_bad_lines=False, delimiter=';')\n",
    "df_penjualan=pd.read_csv('tbl_penjualan_2022_2023.csv', error_bad_lines=False, delimiter=';')\n",
    "df_piutang=pd.read_csv('tbl_piutang_2022_2023.csv', error_bad_lines=False, delimiter=';')"
   ]
  },
  {
   "cell_type": "code",
   "execution_count": 4,
   "id": "d181fa91-784d-403d-8228-237c9157d02f",
   "metadata": {},
   "outputs": [
    {
     "data": {
      "text/html": [
       "<div>\n",
       "<style scoped>\n",
       "    .dataframe tbody tr th:only-of-type {\n",
       "        vertical-align: middle;\n",
       "    }\n",
       "\n",
       "    .dataframe tbody tr th {\n",
       "        vertical-align: top;\n",
       "    }\n",
       "\n",
       "    .dataframe thead th {\n",
       "        text-align: right;\n",
       "    }\n",
       "</style>\n",
       "<table border=\"1\" class=\"dataframe\">\n",
       "  <thead>\n",
       "    <tr style=\"text-align: right;\">\n",
       "      <th></th>\n",
       "      <th>pembayaran</th>\n",
       "      <th>transaksi</th>\n",
       "      <th>tanggal_byr</th>\n",
       "      <th>customer</th>\n",
       "      <th>bayar</th>\n",
       "      <th>potongan</th>\n",
       "    </tr>\n",
       "  </thead>\n",
       "  <tbody>\n",
       "    <tr>\n",
       "      <th>0</th>\n",
       "      <td>032851/BP/22</td>\n",
       "      <td>307280-JL0122</td>\n",
       "      <td>01/10/22 17:06</td>\n",
       "      <td>PL0601 PATABA</td>\n",
       "      <td>84000.0</td>\n",
       "      <td>,00</td>\n",
       "    </tr>\n",
       "    <tr>\n",
       "      <th>1</th>\n",
       "      <td>032851/BP/22</td>\n",
       "      <td>307301-JL0122</td>\n",
       "      <td>01/10/22 17:06</td>\n",
       "      <td>PL0601 PATABA</td>\n",
       "      <td>2500.0</td>\n",
       "      <td>,00</td>\n",
       "    </tr>\n",
       "    <tr>\n",
       "      <th>2</th>\n",
       "      <td>032852/BP/22</td>\n",
       "      <td>307349-JL0122</td>\n",
       "      <td>01/10/22 17:06</td>\n",
       "      <td>PL0416 ALTERNATIF</td>\n",
       "      <td>70000.0</td>\n",
       "      <td>,00</td>\n",
       "    </tr>\n",
       "    <tr>\n",
       "      <th>3</th>\n",
       "      <td>032853/BP/22</td>\n",
       "      <td>307159-JL0122</td>\n",
       "      <td>01/10/22 17:07</td>\n",
       "      <td>PL0672 JM PRINTING</td>\n",
       "      <td>10000.0</td>\n",
       "      <td>,00</td>\n",
       "    </tr>\n",
       "    <tr>\n",
       "      <th>4</th>\n",
       "      <td>032854/BP/22</td>\n",
       "      <td>307223-JL0122</td>\n",
       "      <td>01/10/22 17:07</td>\n",
       "      <td>PL0671 MECCA PRINTING</td>\n",
       "      <td>100000.0</td>\n",
       "      <td>,00</td>\n",
       "    </tr>\n",
       "    <tr>\n",
       "      <th>...</th>\n",
       "      <td>...</td>\n",
       "      <td>...</td>\n",
       "      <td>...</td>\n",
       "      <td>...</td>\n",
       "      <td>...</td>\n",
       "      <td>...</td>\n",
       "    </tr>\n",
       "    <tr>\n",
       "      <th>26728</th>\n",
       "      <td>039822/BP/23</td>\n",
       "      <td>385779-JL0923</td>\n",
       "      <td>09/07/23 20:55</td>\n",
       "      <td>PL0760 ONLINE_WA</td>\n",
       "      <td>32000.0</td>\n",
       "      <td>,00</td>\n",
       "    </tr>\n",
       "    <tr>\n",
       "      <th>26729</th>\n",
       "      <td>039822/BP/23</td>\n",
       "      <td>385676-JL0923</td>\n",
       "      <td>09/07/23 20:55</td>\n",
       "      <td>PL0760 ONLINE_WA</td>\n",
       "      <td>9000.0</td>\n",
       "      <td>,00</td>\n",
       "    </tr>\n",
       "    <tr>\n",
       "      <th>26730</th>\n",
       "      <td>039823/BP/23</td>\n",
       "      <td>385760-JL0923</td>\n",
       "      <td>09/07/23 20:55</td>\n",
       "      <td>UM UMUM</td>\n",
       "      <td>225000.0</td>\n",
       "      <td>,00</td>\n",
       "    </tr>\n",
       "    <tr>\n",
       "      <th>26731</th>\n",
       "      <td>039824/BP/23</td>\n",
       "      <td>385769-JL0923</td>\n",
       "      <td>09/07/23 20:56</td>\n",
       "      <td>PL0615 BHIONK ADVERTISING</td>\n",
       "      <td>15000.0</td>\n",
       "      <td>,00</td>\n",
       "    </tr>\n",
       "    <tr>\n",
       "      <th>26732</th>\n",
       "      <td>039824/BP/23</td>\n",
       "      <td>385763-JL0923</td>\n",
       "      <td>09/07/23 20:56</td>\n",
       "      <td>PL0615 BHIONK ADVERTISING</td>\n",
       "      <td>44000.0</td>\n",
       "      <td>,00</td>\n",
       "    </tr>\n",
       "  </tbody>\n",
       "</table>\n",
       "<p>26733 rows × 6 columns</p>\n",
       "</div>"
      ],
      "text/plain": [
       "         pembayaran      transaksi     tanggal_byr                   customer  \\\n",
       "0      032851/BP/22  307280-JL0122  01/10/22 17:06              PL0601 PATABA   \n",
       "1      032851/BP/22  307301-JL0122  01/10/22 17:06              PL0601 PATABA   \n",
       "2      032852/BP/22  307349-JL0122  01/10/22 17:06          PL0416 ALTERNATIF   \n",
       "3      032853/BP/22  307159-JL0122  01/10/22 17:07         PL0672 JM PRINTING   \n",
       "4      032854/BP/22  307223-JL0122  01/10/22 17:07      PL0671 MECCA PRINTING   \n",
       "...             ...            ...             ...                        ...   \n",
       "26728  039822/BP/23  385779-JL0923  09/07/23 20:55           PL0760 ONLINE_WA   \n",
       "26729  039822/BP/23  385676-JL0923  09/07/23 20:55           PL0760 ONLINE_WA   \n",
       "26730  039823/BP/23  385760-JL0923  09/07/23 20:55                    UM UMUM   \n",
       "26731  039824/BP/23  385769-JL0923  09/07/23 20:56  PL0615 BHIONK ADVERTISING   \n",
       "26732  039824/BP/23  385763-JL0923  09/07/23 20:56  PL0615 BHIONK ADVERTISING   \n",
       "\n",
       "          bayar potongan  \n",
       "0       84000.0      ,00  \n",
       "1        2500.0      ,00  \n",
       "2       70000.0      ,00  \n",
       "3       10000.0      ,00  \n",
       "4      100000.0      ,00  \n",
       "...         ...      ...  \n",
       "26728   32000.0      ,00  \n",
       "26729    9000.0      ,00  \n",
       "26730  225000.0      ,00  \n",
       "26731   15000.0      ,00  \n",
       "26732   44000.0      ,00  \n",
       "\n",
       "[26733 rows x 6 columns]"
      ]
     },
     "execution_count": 4,
     "metadata": {},
     "output_type": "execute_result"
    }
   ],
   "source": [
    "df_pembayaran"
   ]
  },
  {
   "cell_type": "markdown",
   "id": "59216fcd-acc4-4a45-b38e-c3a817063f3c",
   "metadata": {
    "jp-MarkdownHeadingCollapsed": true,
    "tags": []
   },
   "source": [
    "## Transforming"
   ]
  },
  {
   "cell_type": "code",
   "execution_count": null,
   "id": "4c0a02b8-429a-49e6-be9a-20b4554e4480",
   "metadata": {},
   "outputs": [],
   "source": []
  },
  {
   "cell_type": "markdown",
   "id": "c11085fa-52bb-40cd-b2df-defde6359531",
   "metadata": {
    "jp-MarkdownHeadingCollapsed": true,
    "tags": []
   },
   "source": [
    "## Loading"
   ]
  },
  {
   "cell_type": "code",
   "execution_count": null,
   "id": "7980ee74-b871-4e86-ab2c-8f80d47bc8e6",
   "metadata": {},
   "outputs": [],
   "source": []
  },
  {
   "cell_type": "code",
   "execution_count": null,
   "id": "0ce9050c-86e7-4fd9-ac63-22b547cbf922",
   "metadata": {},
   "outputs": [],
   "source": []
  },
  {
   "cell_type": "markdown",
   "id": "24703659-35d7-495d-8eed-46aa42192f55",
   "metadata": {},
   "source": [
    "# Exploratory Data Analyst"
   ]
  },
  {
   "cell_type": "code",
   "execution_count": null,
   "id": "0c674a6e-b0a8-4bed-b011-d11c168c52cb",
   "metadata": {},
   "outputs": [],
   "source": []
  },
  {
   "cell_type": "markdown",
   "id": "a0259d37-c625-4560-b9fc-38bc673f54dc",
   "metadata": {},
   "source": [
    "# Preprocessing"
   ]
  },
  {
   "cell_type": "code",
   "execution_count": null,
   "id": "ae42a295-6240-4e57-966f-64f27b942cec",
   "metadata": {},
   "outputs": [],
   "source": []
  },
  {
   "cell_type": "markdown",
   "id": "57dcf2d1-a385-4fcd-af10-89f846199bec",
   "metadata": {},
   "source": [
    "# Modeling"
   ]
  },
  {
   "cell_type": "code",
   "execution_count": null,
   "id": "c338dd71-8394-4eac-9c7d-c2f034d3e959",
   "metadata": {},
   "outputs": [],
   "source": []
  },
  {
   "cell_type": "markdown",
   "id": "372349c5-ffba-4d9a-afc0-4790f7b5a788",
   "metadata": {},
   "source": [
    "# Evaluating"
   ]
  },
  {
   "cell_type": "code",
   "execution_count": null,
   "id": "e75df9c9-ce2e-40ec-90c4-42277813cffd",
   "metadata": {},
   "outputs": [],
   "source": []
  }
 ],
 "metadata": {
  "kernelspec": {
   "display_name": "Python 3 (ipykernel)",
   "language": "python",
   "name": "python3"
  },
  "language_info": {
   "codemirror_mode": {
    "name": "ipython",
    "version": 3
   },
   "file_extension": ".py",
   "mimetype": "text/x-python",
   "name": "python",
   "nbconvert_exporter": "python",
   "pygments_lexer": "ipython3",
   "version": "3.11.0"
  }
 },
 "nbformat": 4,
 "nbformat_minor": 5
}

{
 "cells": [
  {
   "cell_type": "code",
   "execution_count": 1,
   "id": "b5a424ca-092e-4e5a-a450-17e7f42da09d",
   "metadata": {},
   "outputs": [],
   "source": [
    "import pandas as pd\n",
    "import numpy as np\n",
    "import matplotlib.pyplot as plt\n",
    "import seaborn as sns\n",
    "import warnings\n",
    "\n",
    "from sklearn.preprocessing import MinMaxScaler, LabelEncoder\n",
    "\n",
    "warnings.filterwarnings('ignore')"
   ]
  },
  {
   "cell_type": "markdown",
   "id": "25e42254-9bd0-41d4-922d-244866b83311",
   "metadata": {
    "jp-MarkdownHeadingCollapsed": true,
    "tags": []
   },
   "source": [
    "# 1. Extracting, Transforming, Loading"
   ]
  },
  {
   "cell_type": "markdown",
   "id": "cfd3c45f-6391-441e-b52d-db0eaf3977e5",
   "metadata": {
    "jp-MarkdownHeadingCollapsed": true,
    "tags": []
   },
   "source": [
    "## 1.1. Extracting"
   ]
  },
  {
   "cell_type": "code",
   "execution_count": 18,
   "id": "adaa8cd4-d8e6-4f24-8914-e38928d9890d",
   "metadata": {},
   "outputs": [],
   "source": [
    "df_pembayaran=pd.read_csv('tbl_pembayaran_piutang_2022_2023.csv', error_bad_lines=False, delimiter=';')\n",
    "df_penjualan=pd.read_csv('tbl_penjualan_2022_2023.csv', error_bad_lines=False, delimiter=';')\n",
    "df_piutang=pd.read_csv('tbl_piutang_2022_2023.csv', error_bad_lines=False, delimiter=';')"
   ]
  },
  {
   "cell_type": "code",
   "execution_count": 19,
   "id": "d181fa91-784d-403d-8228-237c9157d02f",
   "metadata": {},
   "outputs": [],
   "source": [
    "df_pembayaran.drop(columns=['potongan'], inplace=True)\n",
    "df_piutang.fillna(0, inplace=True)"
   ]
  },
  {
   "cell_type": "code",
   "execution_count": 22,
   "id": "e576d416-80fe-41c6-bc17-5a5ab9c492ba",
   "metadata": {},
   "outputs": [],
   "source": [
    "df_pembayaran['tanggal_byr']=pd.to_datetime(df_pembayaran['tanggal_byr'])\n",
    "df_piutang['tanggal']=pd.to_datetime(df_piutang['tanggal'])\n",
    "df_piutang['tanggal_jt']=pd.to_datetime(df_piutang['tanggal_jt'])"
   ]
  },
  {
   "cell_type": "code",
   "execution_count": 35,
   "id": "f39e2c07-2958-4174-ae6f-cb5f9439c086",
   "metadata": {},
   "outputs": [],
   "source": [
    "df_piutang=df_piutang[(df_piutang.tanggal.dt.month >= 8) & (df_piutang.tanggal.dt.year == 2023)]\n",
    "df_pembayaran=df_pembayaran[(df_pembayaran.tanggal_byr.dt.month >= 8) & (df_pembayaran.tanggal_byr.dt.year == 2023)]"
   ]
  },
  {
   "cell_type": "code",
   "execution_count": null,
   "id": "a28dd560-d92c-4bf5-bee3-27c5d597951b",
   "metadata": {},
   "outputs": [],
   "source": []
  },
  {
   "cell_type": "code",
   "execution_count": null,
   "id": "737170b3-4785-4439-82a0-9bda085fdd34",
   "metadata": {},
   "outputs": [],
   "source": []
  },
  {
   "cell_type": "code",
   "execution_count": null,
   "id": "53f0fe4b-bacf-4489-bb92-b19e1ddaa265",
   "metadata": {},
   "outputs": [],
   "source": []
  },
  {
   "cell_type": "code",
   "execution_count": null,
   "id": "ebcde142-888a-462e-9cef-b88ae6f89ef9",
   "metadata": {},
   "outputs": [],
   "source": []
  },
  {
   "cell_type": "markdown",
   "id": "59216fcd-acc4-4a45-b38e-c3a817063f3c",
   "metadata": {
    "jp-MarkdownHeadingCollapsed": true,
    "tags": []
   },
   "source": [
    "## 1.2. Transforming"
   ]
  },
  {
   "cell_type": "code",
   "execution_count": null,
   "id": "4c0a02b8-429a-49e6-be9a-20b4554e4480",
   "metadata": {},
   "outputs": [],
   "source": []
  },
  {
   "cell_type": "markdown",
   "id": "c11085fa-52bb-40cd-b2df-defde6359531",
   "metadata": {
    "jp-MarkdownHeadingCollapsed": true,
    "tags": []
   },
   "source": [
    "## 1.3. Loading"
   ]
  },
  {
   "cell_type": "code",
   "execution_count": null,
   "id": "7980ee74-b871-4e86-ab2c-8f80d47bc8e6",
   "metadata": {},
   "outputs": [],
   "source": []
  },
  {
   "cell_type": "code",
   "execution_count": null,
   "id": "0ce9050c-86e7-4fd9-ac63-22b547cbf922",
   "metadata": {},
   "outputs": [],
   "source": []
  },
  {
   "cell_type": "markdown",
   "id": "24703659-35d7-495d-8eed-46aa42192f55",
   "metadata": {
    "jp-MarkdownHeadingCollapsed": true,
    "tags": []
   },
   "source": [
    "# 2. Exploratory Data Analyst"
   ]
  },
  {
   "cell_type": "code",
   "execution_count": null,
   "id": "0c674a6e-b0a8-4bed-b011-d11c168c52cb",
   "metadata": {},
   "outputs": [],
   "source": []
  },
  {
   "cell_type": "markdown",
   "id": "a0259d37-c625-4560-b9fc-38bc673f54dc",
   "metadata": {
    "jp-MarkdownHeadingCollapsed": true,
    "tags": []
   },
   "source": [
    "# 3. Preprocessing"
   ]
  },
  {
   "cell_type": "code",
   "execution_count": null,
   "id": "ae42a295-6240-4e57-966f-64f27b942cec",
   "metadata": {},
   "outputs": [],
   "source": []
  },
  {
   "cell_type": "markdown",
   "id": "57dcf2d1-a385-4fcd-af10-89f846199bec",
   "metadata": {
    "jp-MarkdownHeadingCollapsed": true,
    "tags": []
   },
   "source": [
    "# 4. Modeling"
   ]
  },
  {
   "cell_type": "code",
   "execution_count": null,
   "id": "c338dd71-8394-4eac-9c7d-c2f034d3e959",
   "metadata": {},
   "outputs": [],
   "source": []
  },
  {
   "cell_type": "markdown",
   "id": "372349c5-ffba-4d9a-afc0-4790f7b5a788",
   "metadata": {
    "jp-MarkdownHeadingCollapsed": true,
    "tags": []
   },
   "source": [
    "# 5. Evaluating"
   ]
  },
  {
   "cell_type": "code",
   "execution_count": null,
   "id": "e75df9c9-ce2e-40ec-90c4-42277813cffd",
   "metadata": {},
   "outputs": [],
   "source": []
  }
 ],
 "metadata": {
  "kernelspec": {
   "display_name": "Python 3 (ipykernel)",
   "language": "python",
   "name": "python3"
  },
  "language_info": {
   "codemirror_mode": {
    "name": "ipython",
    "version": 3
   },
   "file_extension": ".py",
   "mimetype": "text/x-python",
   "name": "python",
   "nbconvert_exporter": "python",
   "pygments_lexer": "ipython3",
   "version": "3.11.0"
  }
 },
 "nbformat": 4,
 "nbformat_minor": 5
}
